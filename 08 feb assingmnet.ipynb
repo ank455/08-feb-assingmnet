{
 "cells": [
  {
   "cell_type": "code",
   "execution_count": null,
   "id": "f4a30bb3-d3dc-41fb-a0e9-8c11a1dd204b",
   "metadata": {},
   "outputs": [],
   "source": [
    "# Ans 1\n",
    "\n",
    "Abstraction - abstraction displays only the relevant attributes of objects and hides the unnecessary details."
   ]
  },
  {
   "cell_type": "code",
   "execution_count": 2,
   "id": "99a909b8-f71b-4810-a14f-280558e18f0c",
   "metadata": {},
   "outputs": [],
   "source": [
    "# Example of abstraction \n",
    "import abc\n",
    "class microsoft:\n",
    "    @abc.abstractmethod\n",
    "    def employee_details(self):\n",
    "        pass\n",
    "    @abc.abstractmethod\n",
    "    def employee_timing(self):\n",
    "        pass"
   ]
  },
  {
   "cell_type": "code",
   "execution_count": 3,
   "id": "61b1fb9c-a658-4872-bcd6-b138c71f0a6a",
   "metadata": {},
   "outputs": [],
   "source": [
    "class employee_details(microsoft):\n",
    "    \n",
    "    def employee_details(self):\n",
    "        return\"This will return employee detail working for this company\"\n",
    "    \n",
    "    def employee_timing(self):\n",
    "        return\"Give timing detail for company employee\""
   ]
  },
  {
   "cell_type": "code",
   "execution_count": 7,
   "id": "1c0c7122-903f-41c4-b140-7cbfde874089",
   "metadata": {},
   "outputs": [
    {
     "data": {
      "text/plain": [
       "'This will return employee detail working for this company'"
      ]
     },
     "execution_count": 7,
     "metadata": {},
     "output_type": "execute_result"
    }
   ],
   "source": [
    "ed = employee_details()\n",
    "ed.employee_details()"
   ]
  },
  {
   "cell_type": "code",
   "execution_count": 8,
   "id": "63249015-3887-4ab7-b852-6ffe3b2e0d1c",
   "metadata": {},
   "outputs": [
    {
     "data": {
      "text/plain": [
       "'Give timing detail for company employee'"
      ]
     },
     "execution_count": 8,
     "metadata": {},
     "output_type": "execute_result"
    }
   ],
   "source": [
    "ed.employee_timing()"
   ]
  },
  {
   "cell_type": "code",
   "execution_count": null,
   "id": "0e71c0ee-d66c-46d4-8de8-46edeaf4b80c",
   "metadata": {},
   "outputs": [],
   "source": [
    "# Ans 2\n",
    "\n",
    "Abstraction - abstraction displays only the relevant attributes of objects and hides the unnecessary details.\n",
    "\n",
    "Encapsulation - Encapsulation is an implementation level process, and it is used to provide privacy and maintain control over the transparency of data at the implementation stage of a project.\n"
   ]
  },
  {
   "cell_type": "code",
   "execution_count": 11,
   "id": "949e5151-f228-4787-a522-b99c89f8e6ba",
   "metadata": {},
   "outputs": [],
   "source": [
    "# Example of abstraction\n",
    "import abc\n",
    "class msc :\n",
    "    @abc.abstractmethod\n",
    "    def student_details(self):\n",
    "        pass"
   ]
  },
  {
   "cell_type": "code",
   "execution_count": 12,
   "id": "e475c78f-f41a-4a14-946b-27823d3aeaa2",
   "metadata": {},
   "outputs": [],
   "source": [
    "class student_details(msc):\n",
    "    \n",
    "    def student_details(self):\n",
    "        return \"Return student details\"\n",
    "    "
   ]
  },
  {
   "cell_type": "code",
   "execution_count": 13,
   "id": "e6925ad0-1b84-4cc5-b967-1307627efc0c",
   "metadata": {},
   "outputs": [
    {
     "data": {
      "text/plain": [
       "'Return student details'"
      ]
     },
     "execution_count": 13,
     "metadata": {},
     "output_type": "execute_result"
    }
   ],
   "source": [
    "sd = student_details()\n",
    "sd.student_details()"
   ]
  },
  {
   "cell_type": "code",
   "execution_count": 19,
   "id": "57ca8f23-f91f-4571-8a33-c08301fd9578",
   "metadata": {},
   "outputs": [],
   "source": [
    "# Example of encapsulation\n",
    "\n",
    "class bike:\n",
    "    \n",
    "    def __init__(self , model , year , price):\n",
    "        self.__model = model\n",
    "        self.__year = year\n",
    "        self.__price = price \n",
    "        "
   ]
  },
  {
   "cell_type": "code",
   "execution_count": 20,
   "id": "1bac4af2-5cbe-40a5-87e0-2492f44e8dcd",
   "metadata": {},
   "outputs": [],
   "source": [
    "b = bike(\"tvs\" , 2022 , 65000 )"
   ]
  },
  {
   "cell_type": "code",
   "execution_count": 21,
   "id": "f785c095-7f4f-4ccb-a54d-fe92c6424b1a",
   "metadata": {},
   "outputs": [
    {
     "data": {
      "text/plain": [
       "'tvs'"
      ]
     },
     "execution_count": 21,
     "metadata": {},
     "output_type": "execute_result"
    }
   ],
   "source": [
    "b._bike__model"
   ]
  },
  {
   "cell_type": "code",
   "execution_count": null,
   "id": "52110c03-95d9-4240-aa6e-a13fc9c4f27b",
   "metadata": {},
   "outputs": [],
   "source": [
    "# Ans3\n",
    "\n",
    "abc module is in python library provide the infrastructure for defining custom abstract base classes "
   ]
  },
  {
   "cell_type": "code",
   "execution_count": null,
   "id": "8127881f-cdee-4114-bad6-62c48f25aa3d",
   "metadata": {},
   "outputs": [],
   "source": [
    "# Ans 4\n",
    "\n",
    "Abstraction can be achived by using abstract classew"
   ]
  }
 ],
 "metadata": {
  "kernelspec": {
   "display_name": "Python 3 (ipykernel)",
   "language": "python",
   "name": "python3"
  },
  "language_info": {
   "codemirror_mode": {
    "name": "ipython",
    "version": 3
   },
   "file_extension": ".py",
   "mimetype": "text/x-python",
   "name": "python",
   "nbconvert_exporter": "python",
   "pygments_lexer": "ipython3",
   "version": "3.10.8"
  }
 },
 "nbformat": 4,
 "nbformat_minor": 5
}
